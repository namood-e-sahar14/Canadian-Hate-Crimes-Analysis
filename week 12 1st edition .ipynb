{
 "cells": [
  {
   "cell_type": "code",
   "execution_count": 45,
   "id": "75c9623d",
   "metadata": {
    "scrolled": false
   },
   "outputs": [
    {
     "name": "stdout",
     "output_type": "stream",
     "text": [
      "Coefficients: [-0.04719763 -0.09205012 -0.17475958 -0.1623449   0.0377273  -0.04858991\n",
      "  0.01553657  0.2022505  -0.01214083 -0.01731579 -0.01669767  0.\n",
      "  0.00055883  0.          0.00065501 -0.00274843]\n",
      "Intercept: 5.3995332532367115\n",
      "Mean Absolute Error: 51.72353487314306\n",
      "Mean Squared Error: 5282.049744004888\n",
      "Root Mean Squared Error: 72.67771146647979\n"
     ]
    }
   ],
   "source": [
    "import pandas as pd\n",
    "from sklearn.model_selection import train_test_split\n",
    "from sklearn.linear_model import LinearRegression\n",
    "from sklearn import metrics\n",
    "import matplotlib.pyplot as plt\n",
    "\n",
    "# Create a DataFrame with your data\n",
    "data = {\n",
    "    'Type of motivation': ['Race or ethnicity', 'Religion', 'Sexual orientation', 'Language', 'Disability', 'Sex and gender', 'Age', 'Other similar factor', 'Unknown motivation'],\n",
    "    2014: [611, 429, 155, 12, 10, 22, 6, 10, 23],\n",
    "    2015: [641, 469, 141, 18, 8, 12, 4, 27, 25],\n",
    "    2016: [666, 460, 176, 13, 11, 24, 5, 44, 19],\n",
    "    2017: [878, 842, 204, 23, 10, 32, 4, 35, 32],\n",
    "    2018: [793, 657, 186, 14, 9, 54, 9, 48, 22],\n",
    "    2019: [884, 613, 265, 25, 3, 56, 8, 73, 39],\n",
    "    2020: [1619, 530, 258, 37, 8, 49, 5, 58, 39],\n",
    "    2021: [1745, 886, 438, 33, 16, 60, 14, 101, 81],\n",
    "    2022: [1950, 750, 491, 59, 15, 89, 7, 82, 117]\n",
    "}\n",
    "\n",
    "df = pd.DataFrame(data)\n",
    "\n",
    "# One-hot encode the 'Type of motivation' column\n",
    "df_encoded = pd.get_dummies(df, columns=['Type of motivation'], drop_first=True)\n",
    "\n",
    "# Extract the years as the target variable\n",
    "y = df_encoded.index.astype(int)\n",
    "\n",
    "# Prepare the data for training and testing\n",
    "X = df_encoded.drop(columns='Type of motivation_Unknown motivation').values  # Exclude 'Unknown motivation' from features\n",
    "\n",
    "# Split the data into training and testing sets\n",
    "X_train, X_test, y_train, y_test = train_test_split(X, y, test_size=0.2, random_state=42)\n",
    "\n",
    "# Create a linear regression model\n",
    "model = LinearRegression()\n",
    "\n",
    "# Train the model\n",
    "model.fit(X_train, y_train)\n",
    "\n",
    "# Make predictions on the test set\n",
    "y_pred = model.predict(X_test)\n",
    "\n",
    "# Print the coefficients and intercept\n",
    "print('Coefficients:', model.coef_)\n",
    "print('Intercept:', model.intercept_)\n",
    "\n",
    "# Evaluate the model\n",
    "print('Mean Absolute Error:', metrics.mean_absolute_error(y_test, y_pred))\n",
    "print('Mean Squared Error:', metrics.mean_squared_error(y_test, y_pred))\n",
    "print('Root Mean Squared Error:', metrics.mean_squared_error(y_test, y_pred, squared=False))\n",
    "\n",
    "# Plot the predictions against the actual values\n",
    "\n"
   ]
  },
  {
   "cell_type": "code",
   "execution_count": 44,
   "id": "1612dd31",
   "metadata": {},
   "outputs": [
    {
     "name": "stdout",
     "output_type": "stream",
     "text": [
      "Predictions for 2023 and beyond: [5.40009208 5.39953325 5.39678482 5.38283559 5.38221746 5.40018826\n",
      " 5.39953325 5.39953325 5.39953325]\n"
     ]
    }
   ],
   "source": [
    "import pandas as pd\n",
    "\n",
    "# Assuming you have new data for the years 2023 and beyond\n",
    "# Assuming you have new data for the years 2023 and beyond\n",
    "new_data = {\n",
    "    'Type of motivation': ['Race or ethnicity', 'Religion', 'Sexual orientation', 'Language', 'Disability', 'Sex and gender', 'Age', 'Other similar factor', 'Unknown motivation'],\n",
    "    2023: [700, 500, 180, 25, 15, 60, 10, 90, 120],  # Replace with your actual values\n",
    "    2024: [750, 550, 200, 28, 18, 65, 12, 95, 130],  # Replace with your actual values\n",
    "    # Add more years as needed\n",
    "}\n",
    "\n",
    "# Continue with the rest of the code to make predictions on the new data\n",
    "\n",
    "\n",
    "# Create a DataFrame for the new data\n",
    "new_df = pd.DataFrame(new_data)\n",
    "\n",
    "# One-hot encode the 'Type of motivation' column\n",
    "new_df_encoded = pd.get_dummies(new_df, columns=['Type of motivation'], drop_first=True)\n",
    "\n",
    "# Ensure the columns in new_df_encoded match the columns used during training\n",
    "missing_columns = set(df_encoded.columns) - set(new_df_encoded.columns)\n",
    "for col in missing_columns:\n",
    "    new_df_encoded[col] = 0\n",
    "\n",
    "# Ensure the order of columns is the same\n",
    "new_df_encoded = new_df_encoded[df_encoded.drop(columns='Type of motivation_Unknown motivation').columns]\n",
    "\n",
    "# Make predictions on the new data\n",
    "new_predictions = model.predict(new_df_encoded.values)\n",
    "\n",
    "# Print or use the new predictions\n",
    "print('Predictions for 2023 and beyond:', new_predictions)\n"
   ]
  },
  {
   "cell_type": "code",
   "execution_count": 52,
   "id": "30b66b70",
   "metadata": {},
   "outputs": [
    {
     "name": "stdout",
     "output_type": "stream",
     "text": [
      "Predicted hate crime for 2023: 5.4000920814557\n",
      "Predicted hate crime for 2024: 5.3995332532367115\n",
      "Predicted hate crime for 2025: 5.396784819515936\n",
      "Predicted hate crime for 2026: 5.382835586981297\n",
      "Predicted hate crime for 2027: 5.382217459564865\n",
      "Predicted hate crime for 2028: 5.400188258751411\n",
      "Predicted hate crime for 2029: 5.3995332532367115\n",
      "Predicted hate crime for 2030: 5.3995332532367115\n",
      "Predicted hate crime for 2031: 5.3995332532367115\n"
     ]
    }
   ],
   "source": [
    "\n",
    "import pandas as pd\n",
    "\n",
    "# Assuming you have new data for the years 2023 and beyond\n",
    "# Assuming you have new data for the years 2023 and beyond\n",
    "new_data = {\n",
    "    'Type of motivation': ['Race or ethnicity', 'Religion', 'Sexual orientation', 'Language', 'Disability', 'Sex and gender', 'Age', 'Other similar factor', 'Unknown motivation'],\n",
    "    2023: [700, 500, 180, 25, 15, 60, 10, 90, 120],  \n",
    "    2024: [750, 550, 200, 28, 18, 65, 12, 95, 130],  \n",
    "    # Add more years as needed\n",
    "}\n",
    "\n",
    "new_df = pd.DataFrame(new_data)\n",
    "\n",
    "# One-hot encode the 'Type of motivation' column\n",
    "new_df_encoded = pd.get_dummies(new_df, columns=['Type of motivation'], drop_first=True)\n",
    "\n",
    "# Ensure the columns in new_df_encoded match the columns used during training\n",
    "missing_columns = set(df_encoded.columns) - set(new_df_encoded.columns)\n",
    "for col in missing_columns:\n",
    "    new_df_encoded[col] = 0\n",
    "\n",
    "# Ensure the order of columns is the same\n",
    "new_df_encoded = new_df_encoded[df_encoded.drop(columns='Type of motivation_Unknown motivation').columns]\n",
    "\n",
    "# Make predictions on the new data\n",
    "new_predictions = model.predict(new_df_encoded.values)\n",
    "\n",
    "# Display the predictions for the next 10 years\n",
    "for year, prediction in zip(range(2023, 2033), new_predictions):\n",
    "    print(f'Predicted hate crime for {year}: {prediction}')"
   ]
  },
  {
   "cell_type": "code",
   "execution_count": null,
   "id": "d3c48782",
   "metadata": {},
   "outputs": [],
   "source": []
  },
  {
   "cell_type": "code",
   "execution_count": null,
   "id": "9e332606",
   "metadata": {
    "scrolled": false
   },
   "outputs": [],
   "source": [
    "\n"
   ]
  },
  {
   "cell_type": "code",
   "execution_count": null,
   "id": "4e9a4f51",
   "metadata": {},
   "outputs": [],
   "source": [
    "\n",
    "\n"
   ]
  },
  {
   "cell_type": "code",
   "execution_count": null,
   "id": "92240b50",
   "metadata": {},
   "outputs": [],
   "source": [
    "\n"
   ]
  },
  {
   "cell_type": "code",
   "execution_count": null,
   "id": "c61e541a",
   "metadata": {},
   "outputs": [],
   "source": []
  },
  {
   "cell_type": "code",
   "execution_count": null,
   "id": "4dcd7bb9",
   "metadata": {},
   "outputs": [],
   "source": []
  },
  {
   "cell_type": "code",
   "execution_count": null,
   "id": "d07ad29d",
   "metadata": {},
   "outputs": [],
   "source": []
  },
  {
   "cell_type": "code",
   "execution_count": null,
   "id": "ebde21b1",
   "metadata": {},
   "outputs": [],
   "source": [
    "\n"
   ]
  },
  {
   "cell_type": "code",
   "execution_count": null,
   "id": "3a371097",
   "metadata": {},
   "outputs": [],
   "source": [
    "\n"
   ]
  },
  {
   "cell_type": "code",
   "execution_count": null,
   "id": "55778a60",
   "metadata": {},
   "outputs": [],
   "source": []
  },
  {
   "cell_type": "code",
   "execution_count": null,
   "id": "47d267d9",
   "metadata": {},
   "outputs": [],
   "source": []
  },
  {
   "cell_type": "code",
   "execution_count": null,
   "id": "840ab3a6",
   "metadata": {},
   "outputs": [],
   "source": []
  }
 ],
 "metadata": {
  "kernelspec": {
   "display_name": "Python 3 (ipykernel)",
   "language": "python",
   "name": "python3"
  },
  "language_info": {
   "codemirror_mode": {
    "name": "ipython",
    "version": 3
   },
   "file_extension": ".py",
   "mimetype": "text/x-python",
   "name": "python",
   "nbconvert_exporter": "python",
   "pygments_lexer": "ipython3",
   "version": "3.10.9"
  }
 },
 "nbformat": 4,
 "nbformat_minor": 5
}
